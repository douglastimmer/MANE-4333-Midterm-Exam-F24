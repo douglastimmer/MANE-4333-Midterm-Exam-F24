{
 "cells": [
  {
   "cell_type": "markdown",
   "id": "f554b0c0-577a-4d2d-aec4-3023adbada63",
   "metadata": {},
   "source": [
    "# MANE 4333\n",
    "## Midterm Exam\n",
    "## Your name"
   ]
  },
  {
   "cell_type": "code",
   "execution_count": 1,
   "id": "34502357-63c3-4e14-9c5b-d64d89c375ae",
   "metadata": {},
   "outputs": [],
   "source": [
    "#cell 2 - Question 1, part a"
   ]
  },
  {
   "cell_type": "markdown",
   "id": "fd37cf5b-cfe9-420b-be6b-95aaf3680d8c",
   "metadata": {},
   "source": [
    "# Cell 3 - Question 1, part b"
   ]
  },
  {
   "cell_type": "code",
   "execution_count": 2,
   "id": "eef0a820-240d-4638-a67b-87ab1293236e",
   "metadata": {},
   "outputs": [],
   "source": [
    "# cell 4 - Question 1, part c"
   ]
  },
  {
   "cell_type": "code",
   "execution_count": 3,
   "id": "5d842be3-01a9-4075-85a2-7749d09b6f9d",
   "metadata": {},
   "outputs": [],
   "source": [
    "# cell 5 - Question 1, part d"
   ]
  },
  {
   "cell_type": "markdown",
   "id": "fb3fbaa3-af35-482e-9652-4e883a877bb7",
   "metadata": {},
   "source": [
    "# Cell 6 - Question 1, part e"
   ]
  },
  {
   "cell_type": "code",
   "execution_count": 4,
   "id": "14b55e48-56da-4a9e-9bc8-a24b0e90b7fa",
   "metadata": {},
   "outputs": [],
   "source": [
    "# cell 7 - Question 2, part a"
   ]
  },
  {
   "cell_type": "markdown",
   "id": "d7f6fe49-3561-4ad3-a7cb-69b1d977333a",
   "metadata": {},
   "source": [
    "# Cell 8 - Question 2, part b"
   ]
  },
  {
   "cell_type": "code",
   "execution_count": 5,
   "id": "8472103b-a591-4bc3-b255-072e2e2fc517",
   "metadata": {},
   "outputs": [],
   "source": [
    "# cell 9 - Question 2, part c"
   ]
  },
  {
   "cell_type": "markdown",
   "id": "bff46371-6ed3-40fc-84f5-a323e05c24ea",
   "metadata": {},
   "source": [
    "# Cell 10 - Question 2, part d"
   ]
  },
  {
   "cell_type": "code",
   "execution_count": 6,
   "id": "63cd6fbe-07dc-4c40-b284-d766901b6a4e",
   "metadata": {},
   "outputs": [],
   "source": [
    "# cell 11 - Question 2, part e"
   ]
  },
  {
   "cell_type": "markdown",
   "id": "80b20cd5-9ad3-4bb9-b822-29ace0dd5878",
   "metadata": {},
   "source": [
    "# Cell 12 - Question 2, part f"
   ]
  },
  {
   "cell_type": "code",
   "execution_count": 7,
   "id": "3da5a118-7203-4d0d-aa9c-cb830b064997",
   "metadata": {},
   "outputs": [],
   "source": [
    "# cell 13 - Question 2, part g"
   ]
  },
  {
   "cell_type": "markdown",
   "id": "434f6c87-ff1e-42ff-8ee9-2d157fbc8611",
   "metadata": {},
   "source": [
    "# Cell 14 - Question 2, part h"
   ]
  },
  {
   "cell_type": "markdown",
   "id": "c6e6385a-ade7-437d-b9f1-355273fe0d04",
   "metadata": {},
   "source": [
    "# Cell 15 - Question 2, part i"
   ]
  },
  {
   "cell_type": "code",
   "execution_count": 8,
   "id": "a6004aac-b035-4005-adf2-d7a166ba5770",
   "metadata": {},
   "outputs": [],
   "source": [
    "# Cell 16 - Question 3, part a"
   ]
  },
  {
   "cell_type": "code",
   "execution_count": 9,
   "id": "bcc28a3d-5208-4a5f-abb0-6ea6fec671fe",
   "metadata": {},
   "outputs": [],
   "source": [
    "# Cell 17 - Question 3, part b"
   ]
  },
  {
   "cell_type": "code",
   "execution_count": 10,
   "id": "ec2fbf54-2c4a-40ef-bc24-fea71c823b38",
   "metadata": {},
   "outputs": [],
   "source": [
    "# Cell 18 - Question 3, part c"
   ]
  },
  {
   "cell_type": "code",
   "execution_count": 11,
   "id": "ea02aae1-3f82-461d-a5ac-04d414133fbf",
   "metadata": {},
   "outputs": [],
   "source": [
    "# Cell 19 - Question 3, part d"
   ]
  },
  {
   "cell_type": "markdown",
   "id": "54d2bee2-7e29-49af-a9c9-17fbe1e237cc",
   "metadata": {},
   "source": [
    "# Cell 20 - Question 3, part e"
   ]
  }
 ],
 "metadata": {
  "kernelspec": {
   "display_name": "Python 3 (ipykernel)",
   "language": "python",
   "name": "python3"
  },
  "language_info": {
   "codemirror_mode": {
    "name": "ipython",
    "version": 3
   },
   "file_extension": ".py",
   "mimetype": "text/x-python",
   "name": "python",
   "nbconvert_exporter": "python",
   "pygments_lexer": "ipython3",
   "version": "3.12.4"
  }
 },
 "nbformat": 4,
 "nbformat_minor": 5
}
